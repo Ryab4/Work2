{
 "cells": [
  {
   "cell_type": "markdown",
   "metadata": {},
   "source": [
    "# Сравнение архитектур CNN на датасете EMNIST (Notebook)"
   ]
  },
  {
   "cell_type": "code",
   "execution_count": null,
   "metadata": {},
   "outputs": [],
   "source": [
    "!pip install torch torchvision matplotlib numpy"
   ]
  },
  {
   "cell_type": "code",
   "execution_count": null,
   "metadata": {},
   "outputs": [],
   "source": [
    "import torch, torchvision, time\n",
    "from torch import nn, optim\n",
    "from torchvision import datasets, transforms, models\n",
    "from torch.utils.data import DataLoader\n",
    "import matplotlib.pyplot as plt\n",
    "import numpy as np"
   ]
  },
  {
   "cell_type": "code",
   "execution_count": null,
   "metadata": {},
   "outputs": [],
   "source": [
    "device = torch.device('cuda' if torch.cuda.is_available() else 'cpu')\n",
    "print('Device:', device)"
   ]
  },
  {
   "cell_type": "code",
   "execution_count": null,
   "metadata": {},
   "outputs": [],
   "source": [
    "# Data transforms\n",
    "transform = transforms.Compose([transforms.Resize(224), transforms.Grayscale(3), transforms.ToTensor(), transforms.Normalize([0.485,0.456,0.406],[0.229,0.224,0.225])])\n",
    "# Load EMNIST Balanced\n",
    "train_ds = datasets.EMNIST('.', split='balanced', train=True, download=True, transform=transform)\n",
    "test_ds = datasets.EMNIST('.', split='balanced', train=False, download=True, transform=transform)\n",
    "train_loader = DataLoader(train_ds, batch_size=64, shuffle=True)\n",
    "test_loader = DataLoader(test_ds, batch_size=64)\n",
    "print(len(train_ds), 'train samples')\n",
    "print(len(test_ds), 'test samples')"
   ]
  },
  {
   "cell_type": "code",
   "execution_count": null,
   "metadata": {},
   "outputs": [],
   "source": [
    "# Example: show 6 samples\n",
    "fig, axs = plt.subplots(2,3,figsize=(8,4))\n",
    "for idx, ax in enumerate(axs.flat):\n",
    "    img,label = train_ds[idx*1000]\n",
    "    ax.imshow(img.permute(1,2,0).numpy(), cmap='gray')\n",
    "    ax.set_title(label)\n",
    "    ax.axis('off')\n",
    "plt.show()"
   ]
  },
  {
   "cell_type": "code",
   "execution_count": null,
   "metadata": {},
   "outputs": [],
   "source": [
    "# Define model and train 1 epoch\n",
    "model = models.resnet18(pretrained=False)\n",
    "model.fc = nn.Linear(model.fc.in_features,47)\n",
    "model = model.to(device)\n",
    "optimizer = optim.Adam(model.parameters(), lr=0.001)\n",
    "criterion = nn.CrossEntropyLoss()\n",
    "start = time.time()\n",
    "model.train()\n",
    "running_loss=0\n",
    "for imgs, lbls in train_loader:\n",
    "    imgs,lbls = imgs.to(device), lbls.to(device)\n",
    "    optimizer.zero_grad()\n",
    "    out = model(imgs)\n",
    "    loss = criterion(out,lbls)\n",
    "    loss.backward()\n",
    "    optimizer.step()\n",
    "    running_loss+=loss.item()\n",
    "print('Train Loss:', running_loss/len(train_loader), 'Time:', time.time()-start)"
   ]
  }
 ],
 "metadata": {"kernelspec": {"display_name": "Python 3", "language": "python", "name": "python3"}},
 "nbformat": 4,
 "nbformat_minor": 5
}